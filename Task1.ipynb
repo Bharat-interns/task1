{
  "nbformat": 4,
  "nbformat_minor": 0,
  "metadata": {
    "colab": {
      "provenance": []
    },
    "kernelspec": {
      "name": "python3",
      "display_name": "Python 3"
    },
    "language_info": {
      "name": "python"
    }
  },
  "cells": [
    {
      "cell_type": "code",
      "execution_count": 1,
      "metadata": {
        "colab": {
          "base_uri": "https://localhost:8080/"
        },
        "id": "keovRjAtoiYF",
        "outputId": "b5f44900-1bc7-43c5-dbda-8e92cc59a3db"
      },
      "outputs": [
        {
          "output_type": "stream",
          "name": "stdout",
          "text": [
            "                                     message     label\n",
            "0                     Win a free iPhone now!      spam\n",
            "1        Hey, are we still meeting tomorrow?  non-spam\n",
            "2               Limited time offer, buy now!      spam\n",
            "3  Your account has been credited with $1000      spam\n",
            "4                  Let's catch up for coffee  non-spam\n",
            "5        You have been selected for a prize!      spam\n",
            "6                Can you send me the report?  non-spam\n",
            "7      Congratulations, you won a gift card!      spam\n",
            "8               Are you coming to the party?  non-spam\n",
            "9         Get a loan with low interest rates      spam\n"
          ]
        }
      ],
      "source": [
        "import pandas as pd\n",
        "\n",
        "# Sample synthetic dataset\n",
        "data = {\n",
        "    'message': [\n",
        "        \"Win a free iPhone now!\",\n",
        "        \"Hey, are we still meeting tomorrow?\",\n",
        "        \"Limited time offer, buy now!\",\n",
        "        \"Your account has been credited with $1000\",\n",
        "        \"Let's catch up for coffee\",\n",
        "        \"You have been selected for a prize!\",\n",
        "        \"Can you send me the report?\",\n",
        "        \"Congratulations, you won a gift card!\",\n",
        "        \"Are you coming to the party?\",\n",
        "        \"Get a loan with low interest rates\"\n",
        "    ],\n",
        "    'label': ['spam', 'non-spam', 'spam', 'spam', 'non-spam', 'spam', 'non-spam', 'spam', 'non-spam', 'spam']\n",
        "}\n",
        "\n",
        "df = pd.DataFrame(data)\n",
        "print(df)\n"
      ]
    },
    {
      "cell_type": "code",
      "source": [
        "import re\n",
        "import string\n",
        "\n",
        "# Function to preprocess text\n",
        "def preprocess_text(text):\n",
        "    text = text.lower()  # Convert to lowercase\n",
        "    text = re.sub(f'[{string.punctuation}]', '', text)  # Remove punctuation\n",
        "    text = re.sub('\\d+', '', text)  # Remove numbers\n",
        "    text = text.strip()  # Remove leading and trailing spaces\n",
        "    return text\n",
        "\n",
        "# Apply preprocessing\n",
        "df['message'] = df['message'].apply(preprocess_text)\n",
        "print(df)\n"
      ],
      "metadata": {
        "colab": {
          "base_uri": "https://localhost:8080/"
        },
        "id": "vrDW9BAdpCch",
        "outputId": "5be300b1-960e-4ff6-a1d2-85d1e16895a1"
      },
      "execution_count": 2,
      "outputs": [
        {
          "output_type": "stream",
          "name": "stdout",
          "text": [
            "                               message     label\n",
            "0                win a free iphone now      spam\n",
            "1    hey are we still meeting tomorrow  non-spam\n",
            "2           limited time offer buy now      spam\n",
            "3  your account has been credited with      spam\n",
            "4             lets catch up for coffee  non-spam\n",
            "5   you have been selected for a prize      spam\n",
            "6           can you send me the report  non-spam\n",
            "7  congratulations you won a gift card      spam\n",
            "8          are you coming to the party  non-spam\n",
            "9   get a loan with low interest rates      spam\n"
          ]
        }
      ]
    },
    {
      "cell_type": "code",
      "source": [
        "from sklearn.feature_extraction.text import TfidfVectorizer\n",
        "\n",
        "# Initialize TF-IDF Vectorizer\n",
        "vectorizer = TfidfVectorizer()\n",
        "X = vectorizer.fit_transform(df['message'])\n",
        "y = df['label']\n",
        "\n",
        "print(X.toarray())  # Display the vectorized form\n"
      ],
      "metadata": {
        "colab": {
          "base_uri": "https://localhost:8080/"
        },
        "id": "mC1fhvJMpGx6",
        "outputId": "885f97ae-5438-4395-9809-87a443dbd17b"
      },
      "execution_count": 3,
      "outputs": [
        {
          "output_type": "stream",
          "name": "stdout",
          "text": [
            "[[0.         0.         0.         0.         0.         0.\n",
            "  0.         0.         0.         0.         0.         0.\n",
            "  0.5182909  0.         0.         0.         0.         0.\n",
            "  0.         0.5182909  0.         0.         0.         0.\n",
            "  0.         0.         0.44059462 0.         0.         0.\n",
            "  0.         0.         0.         0.         0.         0.\n",
            "  0.         0.         0.         0.         0.         0.5182909\n",
            "  0.         0.         0.         0.        ]\n",
            " [0.         0.35535858 0.         0.         0.         0.\n",
            "  0.         0.         0.         0.         0.         0.\n",
            "  0.         0.         0.         0.         0.         0.41802399\n",
            "  0.         0.         0.         0.         0.         0.\n",
            "  0.         0.41802399 0.         0.         0.         0.\n",
            "  0.         0.         0.         0.         0.41802399 0.\n",
            "  0.         0.         0.41802399 0.         0.41802399 0.\n",
            "  0.         0.         0.         0.        ]\n",
            " [0.         0.         0.         0.46015789 0.         0.\n",
            "  0.         0.         0.         0.         0.         0.\n",
            "  0.         0.         0.         0.         0.         0.\n",
            "  0.         0.         0.         0.46015789 0.         0.\n",
            "  0.         0.         0.39117625 0.46015789 0.         0.\n",
            "  0.         0.         0.         0.         0.         0.\n",
            "  0.46015789 0.         0.         0.         0.         0.\n",
            "  0.         0.         0.         0.        ]\n",
            " [0.42853734 0.         0.36429589 0.         0.         0.\n",
            "  0.         0.         0.         0.         0.42853734 0.\n",
            "  0.         0.         0.         0.42853734 0.         0.\n",
            "  0.         0.         0.         0.         0.         0.\n",
            "  0.         0.         0.         0.         0.         0.\n",
            "  0.         0.         0.         0.         0.         0.\n",
            "  0.         0.         0.         0.         0.         0.\n",
            "  0.36429589 0.         0.         0.42853734]\n",
            " [0.         0.         0.         0.         0.         0.\n",
            "  0.46015789 0.46015789 0.         0.         0.         0.39117625\n",
            "  0.         0.         0.         0.         0.         0.\n",
            "  0.         0.         0.46015789 0.         0.         0.\n",
            "  0.         0.         0.         0.         0.         0.\n",
            "  0.         0.         0.         0.         0.         0.\n",
            "  0.         0.         0.         0.46015789 0.         0.\n",
            "  0.         0.         0.         0.        ]\n",
            " [0.         0.         0.3847184  0.         0.         0.\n",
            "  0.         0.         0.         0.         0.         0.3847184\n",
            "  0.         0.         0.         0.         0.45256124 0.\n",
            "  0.         0.         0.         0.         0.         0.\n",
            "  0.         0.         0.         0.         0.         0.45256124\n",
            "  0.         0.         0.45256124 0.         0.         0.\n",
            "  0.         0.         0.         0.         0.         0.\n",
            "  0.         0.         0.29924653 0.        ]\n",
            " [0.         0.         0.         0.         0.44023062 0.\n",
            "  0.         0.         0.         0.         0.         0.\n",
            "  0.         0.         0.         0.         0.         0.\n",
            "  0.         0.         0.         0.         0.         0.\n",
            "  0.44023062 0.         0.         0.         0.         0.\n",
            "  0.         0.44023062 0.         0.44023062 0.         0.37423625\n",
            "  0.         0.         0.         0.         0.         0.\n",
            "  0.         0.         0.29109317 0.        ]\n",
            " [0.         0.         0.         0.         0.         0.47472745\n",
            "  0.         0.         0.         0.47472745 0.         0.\n",
            "  0.         0.         0.47472745 0.         0.         0.\n",
            "  0.         0.         0.         0.         0.         0.\n",
            "  0.         0.         0.         0.         0.         0.\n",
            "  0.         0.         0.         0.         0.         0.\n",
            "  0.         0.         0.         0.         0.         0.\n",
            "  0.         0.47472745 0.31390347 0.        ]\n",
            " [0.         0.3847184  0.         0.         0.         0.\n",
            "  0.         0.         0.45256124 0.         0.         0.\n",
            "  0.         0.         0.         0.         0.         0.\n",
            "  0.         0.         0.         0.         0.         0.\n",
            "  0.         0.         0.         0.         0.45256124 0.\n",
            "  0.         0.         0.         0.         0.         0.3847184\n",
            "  0.         0.45256124 0.         0.         0.         0.\n",
            "  0.         0.         0.29924653 0.        ]\n",
            " [0.         0.         0.         0.         0.         0.\n",
            "  0.         0.         0.         0.         0.         0.\n",
            "  0.         0.41802399 0.         0.         0.         0.\n",
            "  0.41802399 0.         0.         0.         0.41802399 0.41802399\n",
            "  0.         0.         0.         0.         0.         0.\n",
            "  0.41802399 0.         0.         0.         0.         0.\n",
            "  0.         0.         0.         0.         0.         0.\n",
            "  0.35535858 0.         0.         0.        ]]\n"
          ]
        }
      ]
    },
    {
      "cell_type": "code",
      "source": [
        "from sklearn.model_selection import train_test_split\n",
        "from sklearn.naive_bayes import MultinomialNB\n",
        "\n",
        "# Split the data into training and testing sets\n",
        "X_train, X_test, y_train, y_test = train_test_split(X, y, test_size=0.2, random_state=42)\n",
        "\n",
        "# Initialize the classifier\n",
        "classifier = MultinomialNB()\n",
        "\n",
        "# Train the classifier\n",
        "classifier.fit(X_train, y_train)\n"
      ],
      "metadata": {
        "colab": {
          "base_uri": "https://localhost:8080/",
          "height": 75
        },
        "id": "axcAEvl1pUgm",
        "outputId": "c92bc41b-bf0d-4a55-d155-817c9a98659f"
      },
      "execution_count": 4,
      "outputs": [
        {
          "output_type": "execute_result",
          "data": {
            "text/plain": [
              "MultinomialNB()"
            ],
            "text/html": [
              "<style>#sk-container-id-1 {color: black;background-color: white;}#sk-container-id-1 pre{padding: 0;}#sk-container-id-1 div.sk-toggleable {background-color: white;}#sk-container-id-1 label.sk-toggleable__label {cursor: pointer;display: block;width: 100%;margin-bottom: 0;padding: 0.3em;box-sizing: border-box;text-align: center;}#sk-container-id-1 label.sk-toggleable__label-arrow:before {content: \"▸\";float: left;margin-right: 0.25em;color: #696969;}#sk-container-id-1 label.sk-toggleable__label-arrow:hover:before {color: black;}#sk-container-id-1 div.sk-estimator:hover label.sk-toggleable__label-arrow:before {color: black;}#sk-container-id-1 div.sk-toggleable__content {max-height: 0;max-width: 0;overflow: hidden;text-align: left;background-color: #f0f8ff;}#sk-container-id-1 div.sk-toggleable__content pre {margin: 0.2em;color: black;border-radius: 0.25em;background-color: #f0f8ff;}#sk-container-id-1 input.sk-toggleable__control:checked~div.sk-toggleable__content {max-height: 200px;max-width: 100%;overflow: auto;}#sk-container-id-1 input.sk-toggleable__control:checked~label.sk-toggleable__label-arrow:before {content: \"▾\";}#sk-container-id-1 div.sk-estimator input.sk-toggleable__control:checked~label.sk-toggleable__label {background-color: #d4ebff;}#sk-container-id-1 div.sk-label input.sk-toggleable__control:checked~label.sk-toggleable__label {background-color: #d4ebff;}#sk-container-id-1 input.sk-hidden--visually {border: 0;clip: rect(1px 1px 1px 1px);clip: rect(1px, 1px, 1px, 1px);height: 1px;margin: -1px;overflow: hidden;padding: 0;position: absolute;width: 1px;}#sk-container-id-1 div.sk-estimator {font-family: monospace;background-color: #f0f8ff;border: 1px dotted black;border-radius: 0.25em;box-sizing: border-box;margin-bottom: 0.5em;}#sk-container-id-1 div.sk-estimator:hover {background-color: #d4ebff;}#sk-container-id-1 div.sk-parallel-item::after {content: \"\";width: 100%;border-bottom: 1px solid gray;flex-grow: 1;}#sk-container-id-1 div.sk-label:hover label.sk-toggleable__label {background-color: #d4ebff;}#sk-container-id-1 div.sk-serial::before {content: \"\";position: absolute;border-left: 1px solid gray;box-sizing: border-box;top: 0;bottom: 0;left: 50%;z-index: 0;}#sk-container-id-1 div.sk-serial {display: flex;flex-direction: column;align-items: center;background-color: white;padding-right: 0.2em;padding-left: 0.2em;position: relative;}#sk-container-id-1 div.sk-item {position: relative;z-index: 1;}#sk-container-id-1 div.sk-parallel {display: flex;align-items: stretch;justify-content: center;background-color: white;position: relative;}#sk-container-id-1 div.sk-item::before, #sk-container-id-1 div.sk-parallel-item::before {content: \"\";position: absolute;border-left: 1px solid gray;box-sizing: border-box;top: 0;bottom: 0;left: 50%;z-index: -1;}#sk-container-id-1 div.sk-parallel-item {display: flex;flex-direction: column;z-index: 1;position: relative;background-color: white;}#sk-container-id-1 div.sk-parallel-item:first-child::after {align-self: flex-end;width: 50%;}#sk-container-id-1 div.sk-parallel-item:last-child::after {align-self: flex-start;width: 50%;}#sk-container-id-1 div.sk-parallel-item:only-child::after {width: 0;}#sk-container-id-1 div.sk-dashed-wrapped {border: 1px dashed gray;margin: 0 0.4em 0.5em 0.4em;box-sizing: border-box;padding-bottom: 0.4em;background-color: white;}#sk-container-id-1 div.sk-label label {font-family: monospace;font-weight: bold;display: inline-block;line-height: 1.2em;}#sk-container-id-1 div.sk-label-container {text-align: center;}#sk-container-id-1 div.sk-container {/* jupyter's `normalize.less` sets `[hidden] { display: none; }` but bootstrap.min.css set `[hidden] { display: none !important; }` so we also need the `!important` here to be able to override the default hidden behavior on the sphinx rendered scikit-learn.org. See: https://github.com/scikit-learn/scikit-learn/issues/21755 */display: inline-block !important;position: relative;}#sk-container-id-1 div.sk-text-repr-fallback {display: none;}</style><div id=\"sk-container-id-1\" class=\"sk-top-container\"><div class=\"sk-text-repr-fallback\"><pre>MultinomialNB()</pre><b>In a Jupyter environment, please rerun this cell to show the HTML representation or trust the notebook. <br />On GitHub, the HTML representation is unable to render, please try loading this page with nbviewer.org.</b></div><div class=\"sk-container\" hidden><div class=\"sk-item\"><div class=\"sk-estimator sk-toggleable\"><input class=\"sk-toggleable__control sk-hidden--visually\" id=\"sk-estimator-id-1\" type=\"checkbox\" checked><label for=\"sk-estimator-id-1\" class=\"sk-toggleable__label sk-toggleable__label-arrow\">MultinomialNB</label><div class=\"sk-toggleable__content\"><pre>MultinomialNB()</pre></div></div></div></div></div>"
            ]
          },
          "metadata": {},
          "execution_count": 4
        }
      ]
    },
    {
      "cell_type": "code",
      "source": [
        "from sklearn.metrics import accuracy_score, precision_score, recall_score, f1_score\n",
        "\n",
        "# Make predictions\n",
        "y_pred = classifier.predict(X_test)\n",
        "\n",
        "# Calculate metrics\n",
        "accuracy = accuracy_score(y_test, y_pred)\n",
        "precision = precision_score(y_test, y_pred, pos_label='spam')\n",
        "recall = recall_score(y_test, y_pred, pos_label='spam')\n",
        "f1 = f1_score(y_test, y_pred, pos_label='spam')\n",
        "\n",
        "print(f'Accuracy: {accuracy:.2f}')\n",
        "print(f'Precision: {precision:.2f}')\n",
        "print(f'Recall: {recall:.2f}')\n",
        "print(f'F1 Score: {f1:.2f}')\n"
      ],
      "metadata": {
        "colab": {
          "base_uri": "https://localhost:8080/"
        },
        "id": "loynMpkGpWv_",
        "outputId": "9648b2c7-8a1b-4fae-fa8c-15614dcd2cd4"
      },
      "execution_count": 5,
      "outputs": [
        {
          "output_type": "stream",
          "name": "stdout",
          "text": [
            "Accuracy: 0.00\n",
            "Precision: 0.00\n",
            "Recall: 0.00\n",
            "F1 Score: 0.00\n"
          ]
        },
        {
          "output_type": "stream",
          "name": "stderr",
          "text": [
            "/usr/local/lib/python3.10/dist-packages/sklearn/metrics/_classification.py:1344: UndefinedMetricWarning: Recall is ill-defined and being set to 0.0 due to no true samples. Use `zero_division` parameter to control this behavior.\n",
            "  _warn_prf(average, modifier, msg_start, len(result))\n"
          ]
        }
      ]
    },
    {
      "cell_type": "code",
      "source": [
        "import matplotlib.pyplot as plt\n",
        "import seaborn as sns\n",
        "\n",
        "# Plot the distribution of labels\n",
        "plt.figure(figsize=(6, 4))\n",
        "sns.countplot(x='label', data=df)\n",
        "plt.title('Distribution of Spam and Non-Spam Messages')\n",
        "plt.xlabel('Label')\n",
        "plt.ylabel('Count')\n",
        "plt.show()\n"
      ],
      "metadata": {
        "colab": {
          "base_uri": "https://localhost:8080/",
          "height": 410
        },
        "id": "FBuOaY9Uppre",
        "outputId": "f27fe9de-df27-455e-868f-2cffb926d4d2"
      },
      "execution_count": 6,
      "outputs": [
        {
          "output_type": "display_data",
          "data": {
            "text/plain": [
              "<Figure size 600x400 with 1 Axes>"
            ],
            "image/png": "[encoded data removed]"
          },
          "metadata": {}
        }
      ]
    },
    {
      "cell_type": "code",
      "source": [
        "# Performance metrics\n",
        "metrics = {\n",
        "    'Accuracy': accuracy,\n",
        "    'Precision': precision,\n",
        "    'Recall': recall,\n",
        "    'F1 Score': f1\n",
        "}\n",
        "\n",
        "# Plot the performance metrics\n",
        "plt.figure(figsize=(8, 5))\n",
        "sns.barplot(x=list(metrics.keys()), y=list(metrics.values()))\n",
        "plt.title('Model Performance Metrics')\n",
        "plt.ylim(0, 1)\n",
        "plt.ylabel('Score')\n",
        "plt.show()\n"
      ],
      "metadata": {
        "colab": {
          "base_uri": "https://localhost:8080/",
          "height": 468
        },
        "id": "Ll_tbcaerPdp",
        "outputId": "4ded5449-1c74-4c13-bdc8-537bff0629b8"
      },
      "execution_count": 7,
      "outputs": [
        {
          "output_type": "display_data",
          "data": {
            "text/plain": [
              "<Figure size 800x500 with 1 Axes>"
            ],
            "image/png": "[encoded data removed]"
          },
          "metadata": {}
        }
      ]
    }
  ]
}